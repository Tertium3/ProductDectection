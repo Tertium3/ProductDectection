{
 "cells": [
  {
   "cell_type": "code",
   "execution_count": null,
   "metadata": {},
   "outputs": [],
   "source": [
    "from os.path import isfile, join\n",
    "from PIL import Image\n",
    "import glob\n",
    "import numpy as np \n",
    "from sklearn.decomposition import PCA\n",
    "import skimage as sk\n",
    "from skimage import transform\n",
    "from skimage import util\n",
    "from skimage import io\n",
    "from scipy import ndarray\n",
    "import random"
   ]
  },
  {
   "cell_type": "code",
   "execution_count": 37,
   "metadata": {},
   "outputs": [],
   "source": [
    "def resize(path, destination)\n",
    "    for i in range(0, 1):\n",
    "        image_path = join(path, str(i).zfill(2))\n",
    "        for filename in glob.glob(\"{}/*.jpg\".format(image_path)):\n",
    "            image = Image.open(filename)\n",
    "            new_image = image.resize((400, 400))\n",
    "            new_image.save('/processed/resize/{}'.format(filename))\n",
    "\n",
    "def load_data(path):\n",
    "    image_list = []\n",
    "    for i in range(0, 1):\n",
    "        image_path = join(path, str(i).zfill(2))\n",
    "        for filename in glob.glob(\"{}/*.jpg\".format(image_path)):\n",
    "            im = sk.io.imread(filename)#Image.open(filename)\n",
    "            image_list.append(im)\n",
    "            #im.close()\n",
    "\n",
    "    return image_list\n",
    "\n",
    "def random_rotation(image_array: ndarray):\n",
    "    random_degree = random.uniform(-45 45)\n",
    "    return sk.transform.rotate(image_array, random_degree)\n",
    "\n",
    "def random_noise(image_array: ndarray):\n",
    "    return sk.util.random_noise(image_array)\n",
    "\n",
    "def horizontal_flip(image_array: ndarray):\n",
    "    return image_array[:, ::-1]\n",
    "\n",
    "\n",
    "def data_agumentation(images):\n",
    "    # dictionary of the transformations we defined earlier\n",
    "    available_transformations = {\n",
    "        'rotate': random_rotation,\n",
    "        'noise': random_noise,\n",
    "        'horizontal_flip': horizontal_flip\n",
    "    }\n",
    "    \n",
    "    folder_path = 'processed/'\n",
    "    num_files_desired = len(images)*3\n",
    "    \n",
    "    num_generated_files = 0\n",
    "    while num_generated_files <= num_files_desired:\n",
    "        image_to_transform = random.choice(images)\n",
    "\n",
    "        num_transformations_to_apply = random.randint(1, len(available_transformations))\n",
    "\n",
    "        num_transformations = 0\n",
    "        transformed_image = None\n",
    "        while num_transformations <= num_transformations_to_apply:\n",
    "            # random transformation to apply for a single image\n",
    "            key = random.choice(list(available_transformations))\n",
    "            transformed_image = available_transformations[key](image_to_transform)\n",
    "            num_transformations += 1\n",
    "        num_generated_files += 1\n",
    "        new_file_path = '%s/augmented_image_%s.jpg' % (folder_path, num_generated_files)\n",
    "\n",
    "        io.imsave(new_file_path, transformed_image)\n",
    "\n",
    "\n",
    "def pca_processing(X):\n",
    "    pca = PCA(n_components=2);\n",
    "    X_transformed = pca.fit_transform(X)\n",
    "    my_df = pd.DataFrame(X_transformed)\n",
    "    my_df.to_csv('pca.csv', index=False) \n",
    "    "
   ]
  },
  {
   "cell_type": "code",
   "execution_count": null,
   "metadata": {},
   "outputs": [],
   "source": [
    "mypath = \"train\"\n",
    "augmentation_path = \"processed\"\n",
    "\n",
    "data = load_data(mypath)\n",
    "data_agumentation(data)\n",
    "data = load_data(augmentation_path)\n",
    "data_array = np.array(data)\n"
   ]
  },
  {
   "cell_type": "code",
   "execution_count": 47,
   "metadata": {},
   "outputs": [
    {
     "ename": "IndexError",
     "evalue": "tuple index out of range",
     "output_type": "error",
     "traceback": [
      "\u001b[1;31m---------------------------------------------------------------------------\u001b[0m",
      "\u001b[1;31mIndexError\u001b[0m                                Traceback (most recent call last)",
      "\u001b[1;32m<ipython-input-47-88fa4bc7e550>\u001b[0m in \u001b[0;36m<module>\u001b[1;34m\u001b[0m\n\u001b[0;32m      1\u001b[0m \u001b[0mdata\u001b[0m \u001b[1;33m=\u001b[0m \u001b[0mload_data\u001b[0m\u001b[1;33m(\u001b[0m\u001b[0maugmentation_path\u001b[0m\u001b[1;33m)\u001b[0m\u001b[1;33m\u001b[0m\u001b[1;33m\u001b[0m\u001b[0m\n\u001b[0;32m      2\u001b[0m \u001b[0mdata_array\u001b[0m \u001b[1;33m=\u001b[0m \u001b[0mnp\u001b[0m\u001b[1;33m.\u001b[0m\u001b[0marray\u001b[0m\u001b[1;33m(\u001b[0m\u001b[0mdata\u001b[0m\u001b[1;33m)\u001b[0m\u001b[1;33m\u001b[0m\u001b[1;33m\u001b[0m\u001b[0m\n\u001b[1;32m----> 3\u001b[1;33m \u001b[0mprint\u001b[0m\u001b[1;33m(\u001b[0m\u001b[0mdata_array\u001b[0m\u001b[1;33m.\u001b[0m\u001b[0mshape\u001b[0m\u001b[1;33m[\u001b[0m\u001b[1;36m1\u001b[0m\u001b[1;33m]\u001b[0m\u001b[1;33m)\u001b[0m\u001b[1;33m\u001b[0m\u001b[1;33m\u001b[0m\u001b[0m\n\u001b[0m\u001b[0;32m      4\u001b[0m \u001b[0mprint\u001b[0m\u001b[1;33m(\u001b[0m\u001b[0mdata_array\u001b[0m\u001b[1;33m.\u001b[0m\u001b[0mreshape\u001b[0m\u001b[1;33m(\u001b[0m\u001b[0mdata_array\u001b[0m\u001b[1;33m.\u001b[0m\u001b[0mshape\u001b[0m\u001b[1;33m[\u001b[0m\u001b[1;36m0\u001b[0m\u001b[1;33m]\u001b[0m\u001b[1;33m,\u001b[0m \u001b[1;33m-\u001b[0m\u001b[1;36m1\u001b[0m\u001b[1;33m)\u001b[0m\u001b[1;33m)\u001b[0m\u001b[1;33m\u001b[0m\u001b[1;33m\u001b[0m\u001b[0m\n\u001b[0;32m      5\u001b[0m \u001b[1;31m#pca_processing(data_arrayre.shape(data_array.shape[0], -1))\u001b[0m\u001b[1;33m\u001b[0m\u001b[1;33m\u001b[0m\u001b[1;33m\u001b[0m\u001b[0m\n",
      "\u001b[1;31mIndexError\u001b[0m: tuple index out of range"
     ]
    }
   ],
   "source": [
    "\n",
    "print(data_array.shape[1])\n",
    "print(data_array.reshape(data_array.shape[0], -1))\n",
    "#pca_processing(data_arrayre.shape(data_array.shape[0], -1))"
   ]
  },
  {
   "cell_type": "code",
   "execution_count": null,
   "metadata": {},
   "outputs": [],
   "source": []
  }
 ],
 "metadata": {
  "kernelspec": {
   "display_name": "Python 3",
   "language": "python",
   "name": "python3"
  },
  "language_info": {
   "codemirror_mode": {
    "name": "ipython",
    "version": 3
   },
   "file_extension": ".py",
   "mimetype": "text/x-python",
   "name": "python",
   "nbconvert_exporter": "python",
   "pygments_lexer": "ipython3",
   "version": "3.7.6"
  }
 },
 "nbformat": 4,
 "nbformat_minor": 4
}
