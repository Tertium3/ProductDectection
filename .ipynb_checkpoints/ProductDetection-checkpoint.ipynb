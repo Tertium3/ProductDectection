{
 "cells": [
  {
   "cell_type": "code",
   "execution_count": 119,
   "metadata": {},
   "outputs": [],
   "source": [
    "from os.path import isfile, join\n",
    "from PIL import Image\n",
    "import glob\n",
    "import numpy as np \n",
    "from sklearn.decomposition import PCA\n",
    "import skimage as sk\n",
    "from skimage import transform\n",
    "from skimage import util\n",
    "from skimage import io\n",
    "from scipy import ndarray\n",
    "import random\n",
    "import pandas as pd"
   ]
  },
  {
   "cell_type": "code",
   "execution_count": 127,
   "metadata": {},
   "outputs": [],
   "source": [
    "def resize(path):\n",
    "    for i in range(0, 1):\n",
    "        image_path = join(path, str(i).zfill(2))\n",
    "        for filename in glob.glob(\"{}/*.jpg\".format(image_path)):\n",
    "            image = Image.open(filename)\n",
    "            new_image = image.resize((300, 300))\n",
    "            new_image.save(filename)\n",
    "\n",
    "def load_data(path):\n",
    "    image_list = []\n",
    "    for i in range(0, 1):\n",
    "        image_path = join(path, str(i).zfill(2))\n",
    "        for filename in glob.glob(\"{}/*.jpg\".format(image_path)):\n",
    "            im = sk.io.imread(filename)#Image.open(filename)\n",
    "            image_list.append(im)\n",
    "            #im.close()\n",
    "\n",
    "    return image_list\n",
    "\n",
    "def random_rotation(image_array: ndarray):\n",
    "    random_degree = random.uniform(-45, 45)\n",
    "    return sk.transform.rotate(image_array, random_degree)\n",
    "\n",
    "def random_noise(image_array: ndarray):\n",
    "    return sk.util.random_noise(image_array)\n",
    "\n",
    "def horizontal_flip(image_array: ndarray):\n",
    "    return image_array[:, ::-1]\n",
    "\n",
    "\n",
    "def data_agumentation(images):\n",
    "    # dictionary of the transformations we defined earlier\n",
    "    available_transformations = {\n",
    "        'rotate': random_rotation,\n",
    "        'noise': random_noise,\n",
    "        'horizontal_flip': horizontal_flip\n",
    "    }\n",
    "    \n",
    "    folder_path = 'processed/'\n",
    "    num_files_desired = len(images)*3\n",
    "    \n",
    "    num_generated_files = 0\n",
    "    while num_generated_files <= num_files_desired:\n",
    "        image_to_transform = random.choice(images)\n",
    "\n",
    "        num_transformations_to_apply = random.randint(1, len(available_transformations))\n",
    "\n",
    "        num_transformations = 0\n",
    "        transformed_image = None\n",
    "        while num_transformations <= num_transformations_to_apply:\n",
    "            # random transformation to apply for a single image\n",
    "            key = random.choice(list(available_transformations))\n",
    "            transformed_image = available_transformations[key](image_to_transform)\n",
    "            num_transformations += 1\n",
    "        num_generated_files += 1\n",
    "        new_file_path = '%s/augmented_image_%s.jpg' % (folder_path, num_generated_files)\n",
    "\n",
    "        io.imsave(new_file_path, transformed_image)\n",
    "\n",
    "\n",
    "def pca_processing(X):\n",
    "    pca = PCA(n_components=100);\n",
    "    X_transformed = pca.fit_transform(X)\n",
    "    my_df = pd.DataFrame(X_transformed)\n",
    "    my_df.to_csv('pca.csv', index=False) \n",
    "    "
   ]
  },
  {
   "cell_type": "code",
   "execution_count": 52,
   "metadata": {},
   "outputs": [
    {
     "name": "stderr",
     "output_type": "stream",
     "text": [
      "Lossy conversion from float64 to uint8. Range [0, 1]. Convert image to uint8 prior to saving to suppress this warning.\n",
      "Lossy conversion from float64 to uint8. Range [0, 1]. Convert image to uint8 prior to saving to suppress this warning.\n",
      "Lossy conversion from float64 to uint8. Range [0, 1]. Convert image to uint8 prior to saving to suppress this warning.\n",
      "Lossy conversion from float64 to uint8. Range [0, 1]. Convert image to uint8 prior to saving to suppress this warning.\n",
      "Lossy conversion from float64 to uint8. Range [0, 1]. Convert image to uint8 prior to saving to suppress this warning.\n",
      "Lossy conversion from float64 to uint8. Range [0, 1]. Convert image to uint8 prior to saving to suppress this warning.\n",
      "Lossy conversion from float64 to uint8. Range [0, 1]. Convert image to uint8 prior to saving to suppress this warning.\n",
      "Lossy conversion from float64 to uint8. Range [0, 1]. Convert image to uint8 prior to saving to suppress this warning.\n",
      "Lossy conversion from float64 to uint8. Range [0, 1]. Convert image to uint8 prior to saving to suppress this warning.\n",
      "Lossy conversion from float64 to uint8. Range [0, 1]. Convert image to uint8 prior to saving to suppress this warning.\n",
      "Lossy conversion from float64 to uint8. Range [0, 1]. Convert image to uint8 prior to saving to suppress this warning.\n",
      "Lossy conversion from float64 to uint8. Range [0, 1]. Convert image to uint8 prior to saving to suppress this warning.\n",
      "Lossy conversion from float64 to uint8. Range [0, 1]. Convert image to uint8 prior to saving to suppress this warning.\n",
      "Lossy conversion from float64 to uint8. Range [0, 1]. Convert image to uint8 prior to saving to suppress this warning.\n",
      "Lossy conversion from float64 to uint8. Range [0, 1]. Convert image to uint8 prior to saving to suppress this warning.\n",
      "Lossy conversion from float64 to uint8. Range [0, 1]. Convert image to uint8 prior to saving to suppress this warning.\n",
      "Lossy conversion from float64 to uint8. Range [0, 1]. Convert image to uint8 prior to saving to suppress this warning.\n",
      "Lossy conversion from float64 to uint8. Range [0, 1]. Convert image to uint8 prior to saving to suppress this warning.\n",
      "Lossy conversion from float64 to uint8. Range [0, 1]. Convert image to uint8 prior to saving to suppress this warning.\n",
      "Lossy conversion from float64 to uint8. Range [0, 1]. Convert image to uint8 prior to saving to suppress this warning.\n",
      "Lossy conversion from float64 to uint8. Range [0, 1]. Convert image to uint8 prior to saving to suppress this warning.\n",
      "Lossy conversion from float64 to uint8. Range [0, 1]. Convert image to uint8 prior to saving to suppress this warning.\n",
      "Lossy conversion from float64 to uint8. Range [0, 1]. Convert image to uint8 prior to saving to suppress this warning.\n",
      "Lossy conversion from float64 to uint8. Range [0, 1]. Convert image to uint8 prior to saving to suppress this warning.\n",
      "Lossy conversion from float64 to uint8. Range [0, 1]. Convert image to uint8 prior to saving to suppress this warning.\n",
      "Lossy conversion from float64 to uint8. Range [0, 1]. Convert image to uint8 prior to saving to suppress this warning.\n",
      "Lossy conversion from float64 to uint8. Range [0, 1]. Convert image to uint8 prior to saving to suppress this warning.\n",
      "Lossy conversion from float64 to uint8. Range [0, 1]. Convert image to uint8 prior to saving to suppress this warning.\n",
      "Lossy conversion from float64 to uint8. Range [0, 1]. Convert image to uint8 prior to saving to suppress this warning.\n"
     ]
    }
   ],
   "source": [
    "mypath = \"train\"\n",
    "augmentation_path = \"processed\"\n",
    "\n",
    "data = load_data(mypath)\n",
    "data_agumentation(data)\n",
    "resize(augmentation_path)\n",
    "data = load_data(augmentation_path, True)\n"
   ]
  },
  {
   "cell_type": "code",
   "execution_count": 132,
   "metadata": {},
   "outputs": [
    {
     "name": "stdout",
     "output_type": "stream",
     "text": [
      "(49, 270000)\n"
     ]
    }
   ],
   "source": [
    "data = load_data(augmentation_path)\n",
    "arr = np.array(data)\n",
    "arr = arr.reshape(arr.shape[0], arr.shape[1]*arr.shape[2]*arr.shape[3])\n",
    "#arr = np.reshape(arr, (arr.shape[0], 1))\n",
    "#pca_processing(arr.flatten().reshape(-1, arr.shape[1]))"
   ]
  },
  {
   "cell_type": "code",
   "execution_count": null,
   "metadata": {},
   "outputs": [],
   "source": []
  },
  {
   "cell_type": "code",
   "execution_count": null,
   "metadata": {},
   "outputs": [],
   "source": []
  }
 ],
 "metadata": {
  "kernelspec": {
   "display_name": "Python 3",
   "language": "python",
   "name": "python3"
  },
  "language_info": {
   "codemirror_mode": {
    "name": "ipython",
    "version": 3
   },
   "file_extension": ".py",
   "mimetype": "text/x-python",
   "name": "python",
   "nbconvert_exporter": "python",
   "pygments_lexer": "ipython3",
   "version": "3.7.6"
  }
 },
 "nbformat": 4,
 "nbformat_minor": 4
}
